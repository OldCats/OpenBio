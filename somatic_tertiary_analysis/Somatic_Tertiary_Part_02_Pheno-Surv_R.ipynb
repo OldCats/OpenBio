{
  "metadata": {
    "kernelspec": {
      "display_name": "R",
      "language": "R",
      "name": "ir"
    },
    "language_info": {
      "codemirror_mode": "r",
      "file_extension": ".r",
      "mimetype": "text/x-r-source",
      "name": "R",
      "pygments_lexer": "r",
      "version": "4.1.3"
    }
  },
  "nbformat_minor": 5,
  "nbformat": 4,
  "cells": [
    {
      "cell_type": "markdown",
      "source": "# Common Somatic Tertiary Analysis (COSTA) Notebooks\n\nThis series of notebooks is created to common tertiary analysis of somatic genetic variants. The series consists of the following notebooks:\n\n- Notebook 0: Somatic Variant Source Data (not in OpenBio)\n- Notebook 1: Somatic VCF to annotated MAF\n- Notebook 2: Kaplan-Meier Survival Curve: Phenotype Based Cohort\n- Notebook 3: Population Level Somatic Mutation Analysis\n- Notebook 4: Kaplan-Meier Survival Curve: Somatic Variant Based Cohort\n- Notebook 5: Gene Level Somatic Mutation Analysis",
      "metadata": {}
    },
    {
      "cell_type": "markdown",
      "source": "# Notebook 2: Kaplan-Meier Survival Curve: Phenotype Based Cohort\nThis notebook gives the demonstrates how to perform survival analysis with Kaplan-Meier (K-M) Survival Curve and visualize the survival rate between two cohorts.\n\n<a href=\"https://github.com/dnanexus/OpenBio/blob/master/LICENSE.md\">MIT License</a> applies to this notebook.\n\n",
      "metadata": {}
    },
    {
      "cell_type": "markdown",
      "source": "## 1. Preparing your environment\n### Launch spec:\n\n* App name: JupyterLab with Python, R, Stata, ML\n* Kernel: R\n* Instance type: mem1_ssd1_v2_x16\n* Cost: < $0.2\n* Runtime: =~ 8 min\n* Data description: File input for this notebook is:\n\n    Phenotype table having clinical data for all the individuals in the study. Some of the columns of our interest are given in the table below.\n    * A _derived_ column has values that we obtain using values from other columns. In this case, we have `end_days_to` as either `death_days_to` or `last_contact_days_to`.\n    * A _synthetic_ column has synthetically generated data. In this case, we have generated synthetic data to be able to analyze multi-state events, as described in section 4 below.\n\n| Column | Description | \n| --- | --- |\n| vital_status | Whether the patient is Alive or Dead. |\n| history_other_malignancy | The yes/no/unknown indicator used to describe the patient's history of prior cancer diagnosis. |\n| surgical_procedure_first | First surgical procedure related to the diagnosis performed on the patient. |\n| tumor_status | Whether the patient has tumor or is tumor free. |\n| last_contact_days_to | Number of days between the date used for index and the date of the patient's last follow-up appointment or contact. NA if the patient dies. |\n| death_days_to | Number of days between the date used for index and the date of the patient's death. NA if the person drops out of the study or loses contact. |\n| end_days_to (_derived_)| Number of days between the date used for index and the date of terminal event (death or dropping out/last contact. |\n| new_tumor_dx_days_to (_synthetic_) | Number of days between the date used for index and the date of diagnosis of a new tumor. |\n| surgical_procedure_first_days_to (_synthetic_) | Number of days between the date used for index and the date of first surgical procedure. |\n| complete_response_days_to (_synthetic_) | Number of days between the date used for index and the date when the patient attains complete response. |    \n        \n### Package and tools dependency:\n\n| Package | License | \n| --- | --- |\n| <a href=\"https://readr.tidyverse.org/\">readr</a> | <a href=\"https://github.com/dnanexus/OpenBio/blob/master/LICENSE.md\">MIT License</a> + <a href=\"https://cran.r-project.org/web/packages/tidyverse/LICENSE\">file LICENSE</a> |\n| <a href=\"https://cran.r-project.org/package=ggfortify\">ggfortify</a> | <a href=\"https://github.com/dnanexus/OpenBio/blob/master/LICENSE.md\">MIT License</a> + <a href=\"https://cran.r-project.org/web/packages/tidyverse/LICENSE\">file LICENSE</a> |\n| <a href=\"https://cran.r-project.org/package=survival\">survival</a> | <a href=\"https://cran.r-project.org/web/licenses/LGPL-2\">LGPL (>= 2)</a> |\n| <a href=\"https://patchwork.data-imaginist.com/\">patchwork</a> | <a href=\"https://github.com/dnanexus/OpenBio/blob/master/LICENSE.md\">MIT License</a> + <a href=\"https://cran.r-project.org/web/packages/tidyverse/LICENSE\">file LICENSE</a> |",
      "metadata": {}
    },
    {
      "cell_type": "markdown",
      "source": "**Install Packages**\n\nUncomment the install commands if you are comfortable with the library license and want to install and run the parts notebook that depend on the library.\n\n_Note: Package installation takes ~5 minutes_",
      "metadata": {}
    },
    {
      "cell_type": "code",
      "source": "# install.packages(\"survival\")\n# install.packages(\"ggfortify\")\n# install.packages(\"readr\")\n# install.packages(\"patchwork\")",
      "metadata": {
        "trusted": true
      },
      "execution_count": null,
      "outputs": []
    },
    {
      "cell_type": "markdown",
      "source": "**Declare input file name**\n\nHere we use the phenotype table generated using the source MAF file and clinical data of the BRCA project that we downloaded from GDC.",
      "metadata": {}
    },
    {
      "cell_type": "code",
      "source": "# Input files\npheno_file <- \"tcga-brca-phenotype.csv\"",
      "metadata": {
        "trusted": true
      },
      "execution_count": null,
      "outputs": []
    },
    {
      "cell_type": "markdown",
      "source": "## 2. Load Libraries",
      "metadata": {}
    },
    {
      "cell_type": "code",
      "source": "library(survival)\nlibrary(ggfortify)\nlibrary(readr)\nlibrary(patchwork)\nlibrary(dplyr)",
      "metadata": {
        "trusted": true
      },
      "execution_count": null,
      "outputs": []
    },
    {
      "cell_type": "markdown",
      "source": "_Note: At this point, we suggest creating a snapshot of the environment for resuse --> DNAnexus/Create SnapshotOnce a snapshot is created, the object may be used when launching a new JupyterLab instance and will contain all installed packages and any downloaded data._",
      "metadata": {}
    },
    {
      "cell_type": "markdown",
      "source": "## 3. Load Data\nRead all the \"time to event\" columns as numeric and the categorical columns as factors.",
      "metadata": {}
    },
    {
      "cell_type": "code",
      "source": "pheno_df <- readr::read_csv(\n  paste0(\"/mnt/project/\", pheno_file),\n  show_col_types = FALSE,\n  na = c(\"NA\", \"null\"),\n  col_types = list(\n    birth_days_to = col_integer(),\n    last_contact_days_to = col_integer(),\n    death_days_to = col_integer(),\n    vital_status = col_factor(),\n    gender = col_factor(),\n    history_other_malignancy = col_factor(),\n    surgical_procedure_first = col_factor(),\n    her2_status_by_ihc = col_factor(),\n    tumor_status = col_factor()\n  )\n)\nhead(pheno_df, 5)\ncolnames(pheno_df)",
      "metadata": {
        "trusted": true
      },
      "execution_count": null,
      "outputs": []
    },
    {
      "cell_type": "markdown",
      "source": "## 4. Add synthetic data and transform the data for Survival analysis",
      "metadata": {}
    },
    {
      "cell_type": "markdown",
      "source": "#### Add a column for time (days) to terminal/end event\nIn this case, terminal/end event is either death or patient dropping out of the study.",
      "metadata": {}
    },
    {
      "cell_type": "code",
      "source": "pheno_df <- pheno_df %>%\n  rowwise() %>%\n  mutate(end_days_to = if_else(is.na(death_days_to), last_contact_days_to, death_days_to)) %>%\n  filter(end_days_to > 1)\n\n# Convert vital status to numeric type, were 1 denotes death and 0 denotes alive (thus censored)\npheno_df <- pheno_df %>%\n  mutate(vital_status = as.numeric(vital_status))\n\nhead(pheno_df)",
      "metadata": {
        "trusted": true
      },
      "execution_count": null,
      "outputs": []
    },
    {
      "cell_type": "markdown",
      "source": "#### Add synthetic data for multi-state events\nOur clinical data has information only on a two-state event (patient is either alive or in the terminal state). To showcase how K-M can be used to support multi-state analysis, existing data wasn't sufficient since it did not have the time to event information for multi-state events. Hence we add synthetic data to our existing phenotype table.\n\nIn addition to the alive and terminal states, we introduce new time to events-  time to surgery (`surgical_procedure_first_days_to`), complete response (`complete_response_days_to`) and development of new tumor (`new_tumor_dx_days_to`). Each of these days is a random day some time before the terminal event day. We assign `surgical_procedure_first_days_to` only to the patients who have definitive surgical procedures (either Simple Mastectomy, Modified Radical Mastectomy, or Lumpectomy).",
      "metadata": {}
    },
    {
      "cell_type": "code",
      "source": "set.seed(5)\n\nsurgery_types <- c(\n  \"Simple Mastectomy\",\n  \"Modified Radical Mastectomy\",\n  \"Lumpectomy\"\n)\n\n# new_tumor_dx_days_to = a random day some time before the terminal day\n# surgical_procedure_first_days_to = a random day some time before the terminal day\n#                                    only if surgery in surgery types\n# complete_response_days_to = a random day some time before the terminal day\npheno_df <- pheno_df %>%\n  rowwise() %>%\n  mutate(\n    new_tumor_dx_days_to = end_days_to - floor(runif(1, min = 1, max = end_days_to))\n  ) %>%\n  mutate(\n    surgical_procedure_first_days_to = ifelse(\n      surgical_procedure_first %in% surgery_types,\n      end_days_to - floor(runif(1, min = 1, max = end_days_to)),\n      NA\n    )\n  ) %>%\n  mutate(\n    complete_response_days_to = end_days_to - floor(runif(1, min = 1, max = end_days_to))\n  )",
      "metadata": {
        "trusted": true
      },
      "execution_count": null,
      "outputs": []
    },
    {
      "cell_type": "markdown",
      "source": "#### Adjust the time intervals\n\nIf two events occur on the same day, it results in a length 0 interval. Intervals of length 0 are illegal for the Surv objects of the survival package. To overcome the problem of length 0 intervals, we correct the data by forcing one of the overlapping events to fall a day prior to its original date.",
      "metadata": {}
    },
    {
      "cell_type": "code",
      "source": "pheno_df <- pheno_df %>%\n  rowwise() %>%\n  mutate(\n    complete_response_days_to = if_else(\n      complete_response_days_to == surgical_procedure_first_days_to,\n      complete_response_days_to - 1,\n      complete_response_days_to\n    )\n  ) %>%\n  mutate(\n    complete_response_days_to = if_else(\n      complete_response_days_to == new_tumor_dx_days_to,\n      complete_response_days_to - 1,\n      complete_response_days_to\n    )\n  ) %>%\n  mutate(\n    surgical_procedure_first_days_to = if_else(\n      surgical_procedure_first_days_to == new_tumor_dx_days_to,\n      surgical_procedure_first_days_to - 1,\n      surgical_procedure_first_days_to\n    )\n  )",
      "metadata": {
        "trusted": true
      },
      "execution_count": null,
      "outputs": []
    },
    {
      "cell_type": "markdown",
      "source": "When we deal with multiple events per patient, we create intervals (start time, end time) instead of using only the time to event information. The `tmerge` function of survival package is used to create time intervals for multi-state data and add columns indicating whether a patient has had a prior surgery or complete response.",
      "metadata": {}
    },
    {
      "cell_type": "code",
      "source": "cols <- c(\n        \"case_id\", \n        \"gender\", \n        \"tumor_status\", \n        \"history_other_malignancy\", \n        \"surgical_procedure_first\", \n        \"her2_status_by_ihc\", \n        \"vital_status\",\n        \"end_days_to\")\n\nmerged_df <- tmerge(\n  pheno_df[, cols],\n  pheno_df,\n  id = case_id,\n  death = event(end_days_to, vital_status),\n  surgery = event(surgical_procedure_first_days_to),\n  complete_response = event(complete_response_days_to),\n  new_tumor = event(new_tumor_dx_days_to),\n  prior_complete_response = tdc(complete_response_days_to),\n  prior_surgery = tdc(surgical_procedure_first_days_to)\n)",
      "metadata": {
        "trusted": true
      },
      "execution_count": null,
      "outputs": []
    },
    {
      "cell_type": "markdown",
      "source": "#### Decorate the dataframe with columns required for Survival Analysis\n\n* Add a column denoting the event occurring during every interval in the table.\n* Add columns denoting Complete Response Status and Surgery Status and a column that tells whether the terminal event occurred before or after surgery.\n",
      "metadata": {}
    },
    {
      "cell_type": "code",
      "source": "merged_df <- merged_df %>%\n  rowwise() %>%\n  mutate(\n    event = factor(\n      (complete_response + 2 * surgery + 4 * new_tumor + 8 * death),\n      c(0, 1, 2, 4, 8),\n      c(\"none\", \"complete_response\", \"surgery\", \"new_tumor\", \"death\")\n    )\n  ) %>%\n  mutate(\n    cr_stat = factor(\n      if_else(prior_complete_response == 1, 0, c(0, 1, 0, 0, 2)[event]),\n      0:2,\n      c(\"none\", \"CR\", \"death\")\n    )\n  ) %>%\n  mutate(\n    surgery_stat = factor(\n      (ifelse(prior_surgery, 0, c(0, 0, 1, 0, 2)[event])),\n      0:2,\n      c(\"censor\", \"surgery\", \"death\")\n    )\n  ) %>%\n  mutate(\n    surgery2 = factor(\n      (c(0, 0, 1, 0, 2)[event] + prior_surgery),\n      0:3,\n      c(\"censor\", \"surgery\", \"death w/o surgery\", \"death after surgery\")\n    )\n  )\n\nhead(merged_df, 10)",
      "metadata": {
        "trusted": true
      },
      "execution_count": null,
      "outputs": []
    },
    {
      "cell_type": "markdown",
      "source": "#### Convert time to event from days to months",
      "metadata": {}
    },
    {
      "cell_type": "code",
      "source": "merged_df <- merged_df %>%\n  rowwise() %>%\n  mutate(end_days_to = end_days_to * 12 / 365.25) %>%\n  mutate(tstart = tstart * 12 / 365.25) %>%\n  mutate(tstop = tstop * 12 / 365.25)",
      "metadata": {
        "trusted": true
      },
      "execution_count": null,
      "outputs": []
    },
    {
      "cell_type": "markdown",
      "source": "## 5. Survival Analysis\n\nWe use the <a href=\"https://cran.r-project.org/web/packages/survival/vignettes/survival.pdf\">survival</a> package to perform survival analysis on our data.",
      "metadata": {}
    },
    {
      "cell_type": "markdown",
      "source": "#### Single event\n\nFit a model that gives the probability of survival with respect to time.",
      "metadata": {}
    },
    {
      "cell_type": "code",
      "source": "model_se1 <- survfit(Surv(end_days_to, vital_status) ~ 1, data = pheno_df)\nmodel_se1",
      "metadata": {
        "trusted": true
      },
      "execution_count": null,
      "outputs": []
    },
    {
      "cell_type": "code",
      "source": "# Obtain summary of the model\nsummary(model_se1)",
      "metadata": {
        "trusted": true
      },
      "execution_count": null,
      "outputs": []
    },
    {
      "cell_type": "code",
      "source": "# Survival plot\nautoplot(\n    model_se1, \n    main = \"Survival plot of patients\", \n    xlab = \"Time (in days)\", \n    ylab = \"Probability of survival\"\n)",
      "metadata": {
        "trusted": true
      },
      "execution_count": null,
      "outputs": []
    },
    {
      "cell_type": "markdown",
      "source": "Fit a model that gives the probability of survival with respect to time, based on tumor status.",
      "metadata": {}
    },
    {
      "cell_type": "code",
      "source": "# Fit model based on tumor status\nmodel_se2 <- survfit(\n    Surv(end_days_to, vital_status) ~ tumor_status, \n    data = pheno_df[pheno_df$tumor_status %in% c(\"TUMOR FREE\", \"WITH TUMOR\"), ])\n\n# Survival plot\nautoplot(\n    model_se2, \n    xlab = \"Time (in days)\", \n    ylab = \"Probability of survival\", \n    main = \"Tumor status based Survival plot\") +\nlabs(color = \"Tumor status\", fill = \"Tumor status\")",
      "metadata": {
        "trusted": true
      },
      "execution_count": null,
      "outputs": []
    },
    {
      "cell_type": "markdown",
      "source": "#### Multi state event\n\n\nFit a model that gives the probability of events like Complete Response, Surgery and Death occurring at different points in time post enrollment, based on the Surgery that was performed.",
      "metadata": {}
    },
    {
      "cell_type": "code",
      "source": "# Compare the probabilities of Simple Mastectomy -vs- Modified Radical Mastectomy\ndata <- merged_df %>%\n  filter(surgical_procedure_first %in% c(\"Modified Radical Mastectomy\", \"Simple Mastectomy\"))\n\nsfit1 <- survfit(Surv(end_days_to, vital_status) ~ surgical_procedure_first, data) # Survival\nsfit2 <- survfit(Surv(tstart, tstop, cr_stat) ~ surgical_procedure_first, data = data, id = case_id) # Complete Response\nsfit3 <- survfit(Surv(tstart, tstop, surgery_stat) ~ surgical_procedure_first, data = data, id = case_id) # Surgery",
      "metadata": {
        "trusted": true
      },
      "execution_count": null,
      "outputs": []
    },
    {
      "cell_type": "code",
      "source": "p1 <- autoplot(\n  sfit1,\n  xlab = \"Time (in months)\",\n  ylab = \"Probability of survival\",\n  main = \"Survival plot based on Surgical procedure\"\n) +\n  labs(color = \"Surgery\", fill = \"Surgery\")",
      "metadata": {
        "trusted": true
      },
      "execution_count": null,
      "outputs": []
    },
    {
      "cell_type": "code",
      "source": "p2 <- autoplot(\n  sfit2[, \"CR\"],\n  xlab = \"Time (in months)\",\n  ylab = \"Fraction with the endpoint\",\n  main = \"Percentage of patients reaching Complete Response based on Surgical procedure\"\n) +\n  labs(color = \"Surgery\", fill = \"Surgery\")",
      "metadata": {
        "trusted": true
      },
      "execution_count": null,
      "outputs": []
    },
    {
      "cell_type": "code",
      "source": "p3 <- autoplot(\n  sfit3[, \"surgery\"],\n  xlab = \"Time (in months)\",\n  ylab = \"Fraction with the endpoint\",\n  main = \"Percentage of patients having surgery based on Surgical procedure\"\n) +\n  labs(color = \"Surgery\", fill = \"Surgery\")",
      "metadata": {
        "trusted": true
      },
      "execution_count": null,
      "outputs": []
    },
    {
      "cell_type": "code",
      "source": "options(repr.plot.width = 30, repr.plot.height = 10)\np1 + p2 + p3",
      "metadata": {
        "trusted": true
      },
      "execution_count": null,
      "outputs": []
    },
    {
      "cell_type": "markdown",
      "source": "#### Other statistics\n**Estimating x-time survival:** Estimate the probability of survival after 5 years, as a function of malignancy history.",
      "metadata": {}
    },
    {
      "cell_type": "code",
      "source": "sfit4 <- survfit(Surv(end_days_to, vital_status) ~ history_other_malignancy, data = pheno_df[pheno_df$history_other_malignancy %in% c(\"No\", \"Yes\"),])",
      "metadata": {
        "trusted": true
      },
      "execution_count": null,
      "outputs": []
    },
    {
      "cell_type": "code",
      "source": "summary(sfit4, times = 60)",
      "metadata": {
        "trusted": true
      },
      "execution_count": null,
      "outputs": []
    },
    {
      "cell_type": "markdown",
      "source": "If the patient has a history of malignancy, the probability of survival after 5 years is 62%, and if there is no history of malignancy, the probability of survuval is 79%.",
      "metadata": {}
    },
    {
      "cell_type": "markdown",
      "source": "**Comparing survival times between groups**: Compare survival times between patients with and without malignancy history.",
      "metadata": {}
    },
    {
      "cell_type": "code",
      "source": "survdiff(Surv(end_days_to, vital_status) ~ history_other_malignancy, data = pheno_df[pheno_df$history_other_malignancy %in% c(\"No\", \"Yes\"),])",
      "metadata": {
        "trusted": true
      },
      "execution_count": null,
      "outputs": []
    }
  ]
}
