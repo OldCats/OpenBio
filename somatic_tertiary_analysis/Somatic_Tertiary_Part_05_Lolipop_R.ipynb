{
  "metadata": {
    "kernelspec": {
      "display_name": "R",
      "language": "R",
      "name": "ir"
    },
    "language_info": {
      "codemirror_mode": "r",
      "file_extension": ".r",
      "mimetype": "text/x-r-source",
      "name": "R",
      "pygments_lexer": "r",
      "version": "4.1.3"
    }
  },
  "nbformat_minor": 5,
  "nbformat": 4,
  "cells": [
    {
      "cell_type": "markdown",
      "source": "# Common Somatic Tertiary Analysis (COSTA) Notebooks\n\nThis series of notebooks is created to common tertiary analysis of somatic genetic variants. The series consists of the following notebooks:\n\n- Notebook 0: Somatic Variant Source Data (not in OpenBio)\n- Notebook 1: Somatic VCF to annotated MAF\n- Notebook 2: Kaplan-Meier Survival Curve: Phenotype Based Cohort\n- Notebook 3: Population Level Somatic Mutation Analysis\n- Notebook 4: Kaplan-Meier Survival Curve: Somatic Variant Based Cohort\n- Notebook 5: Gene Level Somatic Mutation Analysis",
      "metadata": {}
    },
    {
      "cell_type": "markdown",
      "source": "# Notebook 5: Gene Level Somatic Mutation Analysis\nThis notebook demonstrates how to to analyze the effects of variants on protein structure and active domains using lollipop plots. Lollipop plot is a common tool to visualize the mutation activity as it gives a concise view of somatic variants at a specific genomic region.\n\n<a href=\"https://github.com/dnanexus/OpenBio/blob/master/LICENSE.md\">MIT License</a> applies to this notebook.",
      "metadata": {}
    },
    {
      "cell_type": "markdown",
      "source": "## 1. Preparing your environment\n### Launch spec:\n\n* App name: JupyterLab with Python, R, Stata, ML\n* Kernel: R\n* Instance type: mem1_ssd1_v2_x16\n* Cost: < $0.2\n* Runtime: =~ 8 min\n* Data description: File input for this notebook is:\n\n    * MAF files produced from a previous notebook in this series, or project-level TCGA somatic MAF file from GDC Data Portal.\n    * A phenotype table containing clinical information of the patients like vital status, days to death, days to last contact etc.\n    * A flat file containing top 10 mutated genes across all samples. This information can be found in the file `tcga-brca-top10-genes.csv` which we created in the previous step- `Notebook 3: Population Level Somatic Mutation Analysis`.\n    \n### Package and tools dependency:\n\n| Package | License | \n| --- | --- |\n| <a href=\"https://bioconductor.org/packages/maftools\">maftools</a> | <a href=\"https://github.com/dnanexus/OpenBio/blob/master/LICENSE.md\">MIT License</a> + <a href=\"https://cran.r-project.org/web/packages/tidyverse/LICENSE\">file LICENSE</a> |\n| <a href=\"https://readr.tidyverse.org/\">readr</a> |  <a href=\"https://github.com/dnanexus/OpenBio/blob/master/LICENSE.md\">MIT License</a> + <a href=\"https://cran.r-project.org/web/packages/tidyverse/LICENSE\">file LICENSE</a> |",
      "metadata": {}
    },
    {
      "cell_type": "markdown",
      "source": "**Install Packages**\n\nUncomment the install commands if you are comfortable with the library license and want to install and run the parts notebook that depend on the library.\n\n_Note: Package installation takes ~5 minutes_",
      "metadata": {}
    },
    {
      "cell_type": "code",
      "source": "# BiocManager::install(\"maftools\")\n# install.packages(\"readr\")",
      "metadata": {
        "trusted": true
      },
      "execution_count": null,
      "outputs": []
    },
    {
      "cell_type": "markdown",
      "source": "**Declare input file/folder names**\n\nHere we use the individual MAF files generated from individual VCF files in `Notebook 1:Somatic VCF to annotated MAF` as our input.\nWe also use the phenotype file `tcga-brca-phenotype.csv` that has clinical infromation of patients and the file containing information regarding top 10 mutated genes- `tcga-brca-top10-genes.csv`.",
      "metadata": {}
    },
    {
      "cell_type": "code",
      "source": "# Input folder containing individual level MAF files\nmaf_folder <- \"individual_maf\"\n\n# Phenotype file\npheno_file <- \"tcga-brca-phenotype.csv\"\n\n# Co-occurrence file\ngene_file <- \"tcga-brca-top10-genes.csv\"",
      "metadata": {
        "trusted": true
      },
      "execution_count": null,
      "outputs": []
    },
    {
      "cell_type": "markdown",
      "source": "**Download Data**\n\nIf we want to use the project level MAF file obtained from GDC Data Portal that we have saved in our project, download it using `dx download <file_name>`.",
      "metadata": {}
    },
    {
      "cell_type": "code",
      "source": "# # Get data from GDC Data portal (open, Mutect2 Variant Aggregation and Masking)\n# # File = TCGA.BRCA.mutect.995c0111-d90b-4140-bee7-3845436c3b42.DR-10.0.somatic.maf.gz\n# # UUID = 995c0111-d90b-4140-bee7-3845436c3b42\n# # Data Category =  Simple Nucleotide Variation\n# # Data Type = Masked Somatic Mutation\n# # File page link: https://portal.gdc.cancer.gov/files/995c0111-d90b-4140-bee7-3845436c3b42\n\n# system(\"dx download gdc_download_20220310_213209.934185.tar.gz\n# tar -xvf gdc_download_20220310_213209.934185.tar.gz\n# mv 995c0111-d90b-4140-bee7-3845436c3b42/*.maf.gz .\n# mv *.maf.gz tcga-brca.somatic.maf.gz\n# gunzip tcga-brca.somatic.maf.gz\")",
      "metadata": {
        "trusted": true
      },
      "execution_count": null,
      "outputs": []
    },
    {
      "cell_type": "markdown",
      "source": "## 2. Load Libraries",
      "metadata": {}
    },
    {
      "cell_type": "code",
      "source": "library(maftools)\nlibrary(data.table)\nlibrary(readr)\nlibrary(dplyr)",
      "metadata": {
        "trusted": true
      },
      "execution_count": null,
      "outputs": []
    },
    {
      "cell_type": "markdown",
      "source": "_Note: At this point, we suggest creating a snapshot of the environment for resuse --> DNAnexus/Create SnapshotOnce a snapshot is created, the object may be used when launching a new JupyterLab instance and will contain all installed packages and any downloaded data._",
      "metadata": {}
    },
    {
      "cell_type": "markdown",
      "source": "## 3. Load and Transform Data",
      "metadata": {}
    },
    {
      "cell_type": "markdown",
      "source": "**Clinical data**\n\nLoad the phenotype csv file with appropriate column types.",
      "metadata": {}
    },
    {
      "cell_type": "code",
      "source": "pheno_df <- readr::read_csv(\n  paste0(\"/mnt/project/\", pheno_file),\n  show_col_types = FALSE,\n  na = c(\"NA\", \"null\"),\n  col_types = list(\n    last_contact_days_to = col_integer(),\n    death_days_to = col_integer(),\n    vital_status = col_factor()\n  )\n)",
      "metadata": {
        "trusted": true
      },
      "execution_count": null,
      "outputs": []
    },
    {
      "cell_type": "markdown",
      "source": "**MAF files**\n\nWe will read and merge the individual level MAF files into one MAF object, add clinical data to it, and use it for analysis.",
      "metadata": {}
    },
    {
      "cell_type": "code",
      "source": "setwd(paste0(\"/mnt/project/\", maf_folder))\nmy_maf <- merge_mafs(\n  mafs = list.files(path = \".\"),\n  verbose = TRUE\n)\nsetwd(\"/opt/notebooks/\")\n\nmy_maf@clinical.data <- as.data.table(pheno_df)\nmy_maf",
      "metadata": {
        "trusted": true
      },
      "execution_count": null,
      "outputs": []
    },
    {
      "cell_type": "markdown",
      "source": "Alternatively, use the project level MAF file from GDC Data Portal.",
      "metadata": {}
    },
    {
      "cell_type": "code",
      "source": "# my_maf <- read.maf(\n#   maf = \"tcga-brca.somatic.maf\",\n#   clinicalData = pheno_df,\n#   verbose = FALSE\n# )\n# my_maf",
      "metadata": {
        "trusted": true
      },
      "execution_count": null,
      "outputs": []
    },
    {
      "cell_type": "markdown",
      "source": "**Top 10 genes file**\n\nThe genes are arranged in descending order of the total number of mutations observed. We select the gene with the maximum number of total mutations, and hence load only one row and the columns containing gene names and total mutations.",
      "metadata": {}
    },
    {
      "cell_type": "code",
      "source": "top_gene_df <- readr::read_csv(\n  paste0(\"/mnt/project/\", gene_file),\n  show_col_types = FALSE,\n  n_max = 1,\n  col_select = c(\n    \"Hugo_Symbol\",\n    \"total\"\n  )\n)\ntop_gene_df",
      "metadata": {
        "trusted": true
      },
      "execution_count": null,
      "outputs": []
    },
    {
      "cell_type": "markdown",
      "source": "## 4. Somatic Mutation Analysis",
      "metadata": {}
    },
    {
      "cell_type": "markdown",
      "source": "We use the `lollipopPlot` function from `maftools` to perform Somatic Mutation Analysis. We choose the gene with the highest numner of total mutations and use the `lollipop` function to plot the variants corresponding to its proteins.\n\nFirst we want to understand the typical mutation landscape of the entire cohort, this gives us what are some of the variants that are commonly seen for the phenotype. Then we visualize a single sample which helps to understand what is outstanding in the specific sample comparing to the entire cohort.",
      "metadata": {}
    },
    {
      "cell_type": "markdown",
      "source": "### Whole cohort\nWe visualize the functional amino acids mutations and their impacts on various domains across all the samples.\n\n**Select top mutated gene**",
      "metadata": {}
    },
    {
      "cell_type": "code",
      "source": "top_gene <- top_gene_df %>% pull(Hugo_Symbol)",
      "metadata": {
        "trusted": true
      },
      "execution_count": null,
      "outputs": []
    },
    {
      "cell_type": "markdown",
      "source": "**Lollipop plot**",
      "metadata": {}
    },
    {
      "cell_type": "code",
      "source": "options(repr.plot.width = 20, repr.plot.height = 15)\nlollipopPlot(\n  maf = my_maf,\n  gene = top_gene,\n  AACol = \"HGVSp_Short\"\n)",
      "metadata": {
        "trusted": true
      },
      "execution_count": null,
      "outputs": []
    },
    {
      "cell_type": "markdown",
      "source": "### Single sample\nWe visualize the functional amino acids mutations and their impacts on various domains across in one sample.\n\n**Load the individual level MAF file**",
      "metadata": {}
    },
    {
      "cell_type": "code",
      "source": "path_to_maf <- paste0(\"/mnt/project/\", maf_folder, \"/TCGA-3C-AALI-01A-11D-A41F-09_vs_TCGA-3C-AALI-10A-01D-A41F-09.maf\")\nmy_single_maf <- read.maf(path_to_maf, clinicalData = pheno_df)",
      "metadata": {
        "trusted": true
      },
      "execution_count": null,
      "outputs": []
    },
    {
      "cell_type": "markdown",
      "source": "**Get the top mutated gene**",
      "metadata": {}
    },
    {
      "cell_type": "code",
      "source": "genes <- getGeneSummary(my_single_maf) %>% pull(Hugo_Symbol)\ngenes[1]",
      "metadata": {
        "trusted": true
      },
      "execution_count": null,
      "outputs": []
    },
    {
      "cell_type": "markdown",
      "source": "**Lollipop plot**",
      "metadata": {}
    },
    {
      "cell_type": "code",
      "source": "lollipopPlot(\n  maf = my_single_maf,\n  gene = genes[1],\n  AACol = \"HGVSp_Short\"\n)",
      "metadata": {
        "trusted": true
      },
      "execution_count": null,
      "outputs": []
    }
  ]
}
