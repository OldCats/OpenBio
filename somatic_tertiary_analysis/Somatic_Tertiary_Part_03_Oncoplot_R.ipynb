{
  "metadata": {
    "kernelspec": {
      "display_name": "R",
      "language": "R",
      "name": "ir"
    },
    "language_info": {
      "codemirror_mode": "r",
      "file_extension": ".r",
      "mimetype": "text/x-r-source",
      "name": "R",
      "pygments_lexer": "r",
      "version": "4.1.3"
    }
  },
  "nbformat_minor": 5,
  "nbformat": 4,
  "cells": [
    {
      "cell_type": "markdown",
      "source": "# Common Somatic Tertiary Analysis (COSTA) Notebooks\n\nThis series of notebooks is created to common tertiary analysis of somatic genetic variants. The series consists of the following notebooks:\n\n- Notebook 0: Somatic Variant Source Data (not in OpenBio)\n- Notebook 1: Somatic VCF to annotated MAF\n- Notebook 2: Kaplan-Meier Survival Curve: Phenotype Based Cohort\n- Notebook 3: Population Level Somatic Mutation Analysis\n- Notebook 4: Kaplan-Meier Survival Curve: Somatic Variant Based Cohort\n- Notebook 5: Gene Level Somatic Mutation Analysis",
      "metadata": {}
    },
    {
      "cell_type": "markdown",
      "source": "# Notebook 3: Population level somatic mutation analysis\nThis notebook demonstrates how to to identify the top 10 most mutated genes in a cohort and how to visualize a mutation status.\n\n<a href=\"https://github.com/dnanexus/OpenBio/blob/master/LICENSE.md\">MIT License</a> applies to this notebook. We also generate a list of the genes co-occurring with the top 10 mutated genes.",
      "metadata": {}
    },
    {
      "cell_type": "markdown",
      "source": "## 1. Preparing your environment\n### Launch spec:\n\n* App name: JupyterLab with Python, R, Stata, ML\n* Kernel: R\n* Instance type: mem1_ssd1_v2_x16\n* Cost: < $0.2\n* Runtime: =~ 10 min\n* Data description: File input for this notebook is:\n\n    * MAF file produced from a previous notebook in this series, or project-level TCGA somatic MAF file from GDC Data Portal.\n    \n    _Note: The input MAF file(s) need to contain variants in atleast two genes for the Oncoplot and Exclusive/Co-occurance analysis to run properly._\n\n### Package and tools dependency:\n\n| Package | License | \n| --- | --- |\n| <a href=\"https://bioconductor.org/packages/maftools\">maftools</a> | <a href=\"https://github.com/dnanexus/OpenBio/blob/master/LICENSE.md\">MIT License</a> + <a href=\"https://cran.r-project.org/web/packages/tidyverse/LICENSE\">file LICENSE</a> |\n| <a href=\"https://readr.tidyverse.org/\">readr</a> |  <a href=\"https://github.com/dnanexus/OpenBio/blob/master/LICENSE.md\">MIT License</a> + <a href=\"https://cran.r-project.org/web/packages/tidyverse/LICENSE\">file LICENSE</a> |\n",
      "metadata": {}
    },
    {
      "cell_type": "markdown",
      "source": "**Install Packages**\n\nUncomment the install commands if you are comfortable with the library license and want to install and run the parts notebook that depend on the library.\n\n_Note: Package installation takes ~5 minutes_",
      "metadata": {}
    },
    {
      "cell_type": "code",
      "source": "# BiocManager::install(\"maftools\")\n# install.packages(\"readr\")",
      "metadata": {
        "trusted": true
      },
      "execution_count": null,
      "outputs": []
    },
    {
      "cell_type": "markdown",
      "source": "**Declare input and output file/folder names**\n\nHere we use the individual MAF files generated from individual VCF files in `Notebook 1:Somatic VCF to annotated MAF` as our input.\n\nOur output files will be:\n* A csv file contains all variants for the top 10 genes, one variant per row, and contains the following information for each variant: Chromosome number, start position, end position, HGNS gene symbol, sample IDs with the variant, and protein change.\n* A csv file containing the co-occurrence analysis for the top 10 mutated genes, including at least the following information: Gene symbols of the co-occurrence, P-value, odds ratio, and the specific event (co-occurrence or exclusive).",
      "metadata": {}
    },
    {
      "cell_type": "code",
      "source": "# Input folder\nmaf_folder <- \"individual_maf\"\n\n# Output files\ntop_10_file <- \"tcga-brca-top10-genes.csv\"\nco_occurrence_file <- \"tcga-brca-top10-co-occurrence.csv\"",
      "metadata": {
        "trusted": true
      },
      "execution_count": null,
      "outputs": []
    },
    {
      "cell_type": "markdown",
      "source": "**Download Data**",
      "metadata": {}
    },
    {
      "cell_type": "markdown",
      "source": "If we want to use the project level MAF file obtained from GDC Data Portal that we have saved in our project, download it using `dx download <file_name>`.",
      "metadata": {}
    },
    {
      "cell_type": "code",
      "source": "# # Get data from GDC Data portal (open, Mutect2 Variant Aggregation and Masking)\n# # File = TCGA.BRCA.mutect.995c0111-d90b-4140-bee7-3845436c3b42.DR-10.0.somatic.maf.gz\n# # UUID = 995c0111-d90b-4140-bee7-3845436c3b42\n# # Data Category =  Simple Nucleotide Variation\n# # Data Type = Masked Somatic Mutation\n# # File page link: https://portal.gdc.cancer.gov/files/995c0111-d90b-4140-bee7-3845436c3b42\n\n# system(\"dx download gdc_download_20220310_213209.934185.tar.gz\n# tar -xvf gdc_download_20220310_213209.934185.tar.gz\n# mv 995c0111-d90b-4140-bee7-3845436c3b42/*.maf.gz .\n# mv *.maf.gz tcga-brca.somatic.maf.gz\n# gunzip tcga-brca.somatic.maf.gz\")",
      "metadata": {
        "trusted": true
      },
      "execution_count": null,
      "outputs": []
    },
    {
      "cell_type": "markdown",
      "source": "## 2. Load Libraries",
      "metadata": {}
    },
    {
      "cell_type": "code",
      "source": "library(maftools)\nlibrary(readr)\nlibrary(dplyr)",
      "metadata": {
        "trusted": true
      },
      "execution_count": null,
      "outputs": []
    },
    {
      "cell_type": "markdown",
      "source": "_Note: At this point, we suggest creating a snapshot of the environment for resuse --> DNAnexus/Create SnapshotOnce a snapshot is created, the object may be used when launching a new JupyterLab instance and will contain all installed packages and any downloaded data._",
      "metadata": {}
    },
    {
      "cell_type": "markdown",
      "source": "## 3. Load Data\nWe will read and merge the individual level MAF files into one MAF object and use it for analysis.",
      "metadata": {}
    },
    {
      "cell_type": "code",
      "source": "setwd(paste0(\"/mnt/project/\", maf_folder))\nmy_maf <- merge_mafs(\n  mafs = list.files(path = \".\"),\n  verbose = TRUE\n)\nsetwd(\"/opt/notebooks/\")\nmy_maf",
      "metadata": {
        "trusted": true
      },
      "execution_count": null,
      "outputs": []
    },
    {
      "cell_type": "markdown",
      "source": "Alternatively, use the project level MAF file from GDC Data Portal.",
      "metadata": {}
    },
    {
      "cell_type": "code",
      "source": "# my_maf = read.maf(maf = \"tcga-brca.somatic.maf\")\n# my_maf",
      "metadata": {
        "trusted": true
      },
      "execution_count": null,
      "outputs": []
    },
    {
      "cell_type": "markdown",
      "source": "## 4. Population Level Somatic Mutation Analysis \n\n###  Plotting MAF summary",
      "metadata": {}
    },
    {
      "cell_type": "markdown",
      "source": "Plot a visual summary of the mutational status of the cohort using the `plotmafsummary` function.",
      "metadata": {}
    },
    {
      "cell_type": "code",
      "source": "plotmafSummary(\n  maf = my_maf,\n  rmOutlier = TRUE,\n  addStat = \"median\",\n  dashboard = TRUE,\n  titvRaw = FALSE\n)",
      "metadata": {
        "trusted": true
      },
      "execution_count": null,
      "outputs": []
    },
    {
      "cell_type": "markdown",
      "source": "###  Get top 10 mutated genes\nGet gene summary and obtain the top 10 mutated genes.",
      "metadata": {}
    },
    {
      "cell_type": "code",
      "source": "top10_genes <- getGeneSummary(my_maf)[1:10]\ntop10_genes",
      "metadata": {
        "trusted": true
      },
      "execution_count": null,
      "outputs": []
    },
    {
      "cell_type": "markdown",
      "source": "Subset the MAF file to obtain variant information for the top 10 genes.",
      "metadata": {}
    },
    {
      "cell_type": "code",
      "source": "maf_subset <- subsetMaf(\n  maf = my_maf,\n  genes = top10_genes$\"Hugo_Symbol\",\n  mafObj = FALSE\n)",
      "metadata": {
        "trusted": true
      },
      "execution_count": null,
      "outputs": []
    },
    {
      "cell_type": "markdown",
      "source": "Add the following variant information from the MAF subset data.table to the top 10 genes data.table:\n* Chromosome number\n* Start position\n* End position\n* Sample IDs (samples which contain those variants)\n* Protein change",
      "metadata": {}
    },
    {
      "cell_type": "code",
      "source": "top10_genes <- top10_genes %>%\n  inner_join(\n    maf_subset %>%\n      select(\n        Chromosome,\n        Start_Position,\n        End_Position,\n        Tumor_Sample_Barcode,\n        Matched_Norm_Sample_Barcode,\n        SIFT,\n        PolyPhen,\n        Amino_acids,\n        Hugo_Symbol\n      ),\n    by = \"Hugo_Symbol\"\n  )\n\nhead(top10_genes)",
      "metadata": {
        "trusted": true
      },
      "execution_count": null,
      "outputs": []
    },
    {
      "cell_type": "markdown",
      "source": "### Oncoplot for the top 10 mutated genes",
      "metadata": {}
    },
    {
      "cell_type": "code",
      "source": "oncoplot(\n  maf = my_maf,\n  top = 10\n)",
      "metadata": {
        "trusted": true
      },
      "execution_count": null,
      "outputs": []
    },
    {
      "cell_type": "markdown",
      "source": "### Exclusive/co-occurance analysis of top 10 genes",
      "metadata": {}
    },
    {
      "cell_type": "code",
      "source": "somatic_interaction <- somaticInteractions(\n  maf = my_maf,\n  top = 10,\n  pvalue = c(0.05, 0.1)\n)\nhead(somatic_interaction)",
      "metadata": {
        "trusted": true
      },
      "execution_count": null,
      "outputs": []
    },
    {
      "cell_type": "markdown",
      "source": "# 5. Upload results to the project\nWe write the output dataframes to csv files and upload them to our project using CLI dx-toolbox command, `dx upload <file_name>`.",
      "metadata": {}
    },
    {
      "cell_type": "code",
      "source": "# Top 10 genes\nwrite_csv(top10_genes, top_10_file)\n# Co-occurence analysis\nwrite_csv(somatic_interaction, co_occurrence_file)",
      "metadata": {
        "trusted": true
      },
      "execution_count": null,
      "outputs": []
    },
    {
      "cell_type": "code",
      "source": "system(paste(\"dx upload\", shQuote(top_10_file)))\nsystem(paste(\"dx upload\", shQuote(co_occurrence_file)))",
      "metadata": {
        "trusted": true
      },
      "execution_count": null,
      "outputs": []
    }
  ]
}
