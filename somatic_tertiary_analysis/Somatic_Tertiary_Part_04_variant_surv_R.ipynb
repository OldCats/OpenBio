{
  "metadata": {
    "kernelspec": {
      "display_name": "R",
      "language": "R",
      "name": "ir"
    },
    "language_info": {
      "codemirror_mode": "r",
      "file_extension": ".r",
      "mimetype": "text/x-r-source",
      "name": "R",
      "pygments_lexer": "r",
      "version": "4.1.3"
    }
  },
  "nbformat_minor": 5,
  "nbformat": 4,
  "cells": [
    {
      "cell_type": "markdown",
      "source": "# Common Somatic Tertiary Analysis (COSTA) Notebooks\n\nThis series of notebooks is created to common tertiary analysis of somatic genetic variants. The series consists of the following notebooks:\n\n- Notebook 0: Somatic Variant Source Data (not in OpenBio)\n- Notebook 1: Somatic VCF to annotated MAF\n- Notebook 2: Kaplan-Meier Survival Curve: Phenotype Based Cohort\n- Notebook 3: Population Level Somatic Mutation Analysis\n- Notebook 4: Kaplan-Meier Survival Curve: Somatic Variant Based Cohort\n- Notebook 5: Gene Level Somatic Mutation Analysis",
      "metadata": {}
    },
    {
      "cell_type": "markdown",
      "source": "# Notebook 4: Kaplan-Meier Survival Curve: Somatic Variant Based Cohort\nThis notebook demonstrates how to to analyze the survival rate for a cohort with a set of mutated genes compared with a cohort which does not have the set of mutations.\n\n<a href=\"https://github.com/dnanexus/OpenBio/blob/master/LICENSE.md\">MIT License</a> applies to this notebook.",
      "metadata": {}
    },
    {
      "cell_type": "markdown",
      "source": "## 1. Preparing your environment\n### Launch spec:\n\n* App name: JupyterLab with Python, R, Stata, ML\n* Kernel: R\n* Instance type: mem1_ssd1_v2_x16\n* Cost: < $0.2\n* Runtime: =~ 10 min\n* Data description: File input for this notebook is:\n\n    * MAF files produced from a previous notebook in this series, or project-level TCGA somatic MAF file from GDC Data Portal.\n    * A phenotype table containing clinical information of the patients like vital status, days to death, days to last contact etc.\n    * A flat file containing top 10 co-occurrent genes. The co-occurence information can be found in the file `tcga-brca-top10-co-occurence.csv` which we created in the previous step- `Notebook 3: Population Level Somatic Mutation Analysis`.\n    \n### Package and tools dependency:\n\n| Package | License | \n| --- | --- |\n| <a href=\"https://bioconductor.org/packages/maftools\">maftools</a> | <a href=\"https://github.com/dnanexus/OpenBio/blob/master/LICENSE.md\">MIT License</a> + <a href=\"https://cran.r-project.org/web/packages/tidyverse/LICENSE\">file LICENSE</a> |\n| <a href=\"https://readr.tidyverse.org/\">readr</a> |  <a href=\"https://github.com/dnanexus/OpenBio/blob/master/LICENSE.md\">MIT License</a> + <a href=\"https://cran.r-project.org/web/packages/tidyverse/LICENSE\">file LICENSE</a> |",
      "metadata": {}
    },
    {
      "cell_type": "markdown",
      "source": "**Install Packages**\n\nUncomment the install commands if you are comfortable with the library license and want to install and run the parts notebook that depend on the library.\n\n_Note: Package installation takes ~5 minutes_",
      "metadata": {}
    },
    {
      "cell_type": "code",
      "source": "# BiocManager::install(\"maftools\")\n# install.packages(\"readr\")",
      "metadata": {
        "trusted": true
      },
      "execution_count": null,
      "outputs": []
    },
    {
      "cell_type": "markdown",
      "source": "**Declare input file/folder names**\n\nHere we use the individual MAF files generated from individual VCF files in `Notebook 1:Somatic VCF to annotated MAF` as our input.\nWe also use the phenotype file `tcga-brca-phenotype.csv` that has clinical infromation of patients.",
      "metadata": {}
    },
    {
      "cell_type": "code",
      "source": "# Input folder containing individual level MAF files\nmaf_folder <- \"individual_maf\"\n\n# Phenotype file\npheno_file <- \"tcga-brca-phenotype.csv\"\n\n# Co-occurrence file\nco_occurrence_file <- \"tcga-brca-top10-co-occurrence.csv\"",
      "metadata": {
        "trusted": true
      },
      "execution_count": null,
      "outputs": []
    },
    {
      "cell_type": "markdown",
      "source": "**Download Data**\n\nIf we want to use the project level MAF file obtained from GDC Data Portal that we have saved in our project, download it using `dx download <file_name>`.",
      "metadata": {}
    },
    {
      "cell_type": "code",
      "source": "# # Get data from GDC Data portal (open, Mutect2 Variant Aggregation and Masking)\n# # File = TCGA.BRCA.mutect.995c0111-d90b-4140-bee7-3845436c3b42.DR-10.0.somatic.maf.gz\n# # UUID = 995c0111-d90b-4140-bee7-3845436c3b42\n# # Data Category =  Simple Nucleotide Variation\n# # Data Type = Masked Somatic Mutation\n# # File page link: https://portal.gdc.cancer.gov/files/995c0111-d90b-4140-bee7-3845436c3b42\n\n# system(\"dx download gdc_download_20220310_213209.934185.tar.gz\n# tar -xvf gdc_download_20220310_213209.934185.tar.gz\n# mv 995c0111-d90b-4140-bee7-3845436c3b42/*.maf.gz .\n# mv *.maf.gz tcga-brca.somatic.maf.gz\n# gunzip tcga-brca.somatic.maf.gz\")",
      "metadata": {
        "trusted": true
      },
      "execution_count": null,
      "outputs": []
    },
    {
      "cell_type": "markdown",
      "source": "## 2. Load Libraries",
      "metadata": {}
    },
    {
      "cell_type": "code",
      "source": "library(maftools)\nlibrary(readr)\nlibrary(dplyr)\nlibrary(data.table)",
      "metadata": {
        "trusted": true
      },
      "execution_count": null,
      "outputs": []
    },
    {
      "cell_type": "markdown",
      "source": "_Note: At this point, we suggest creating a snapshot of the environment for resuse --> DNAnexus/Create SnapshotOnce a snapshot is created, the object may be used when launching a new JupyterLab instance and will contain all installed packages and any downloaded data._",
      "metadata": {}
    },
    {
      "cell_type": "markdown",
      "source": "## 3. Load and Transform Data",
      "metadata": {}
    },
    {
      "cell_type": "markdown",
      "source": "**Clinical data**\n\nLoad the phenotype csv file with appropriate column types.",
      "metadata": {}
    },
    {
      "cell_type": "code",
      "source": "pheno_df <- readr::read_csv(\n  paste0(\"/mnt/project/\", pheno_file),\n  show_col_types = FALSE,\n  na = c(\"NA\", \"null\"),\n  col_types = list(\n    last_contact_days_to = col_integer(),\n    death_days_to = col_integer(),\n    vital_status = col_factor()\n  )\n)",
      "metadata": {
        "trusted": true
      },
      "execution_count": null,
      "outputs": []
    },
    {
      "cell_type": "markdown",
      "source": "Add a column for time (days) to terminal event. In this case, terminal event is either death or patient dropping out of the study.",
      "metadata": {}
    },
    {
      "cell_type": "code",
      "source": "pheno_df <- pheno_df %>%\n  mutate(\n    termination_days_to = ifelse(is.na(death_days_to), last_contact_days_to, death_days_to)\n  ) %>%\n  filter(\n    termination_days_to > 1\n  ) %>%\n  mutate(\n    vital_status = as.numeric(vital_status)\n  )\n\nhead(pheno_df)",
      "metadata": {
        "trusted": true
      },
      "execution_count": null,
      "outputs": []
    },
    {
      "cell_type": "markdown",
      "source": "**MAF files**\n\nWe will read and merge the individual level MAF files into one MAF object, add clinical data to it, and use it for analysis.",
      "metadata": {}
    },
    {
      "cell_type": "code",
      "source": "setwd(paste0(\"/mnt/project/\", maf_folder))\nmy_maf <- merge_mafs(\n  mafs = list.files(path = \".\"),\n  verbose = TRUE\n)\nsetwd(\"/opt/notebooks/\")\n\nmy_maf@clinical.data <- as.data.table(pheno_df)\nmy_maf",
      "metadata": {
        "trusted": true
      },
      "execution_count": null,
      "outputs": []
    },
    {
      "cell_type": "markdown",
      "source": "Alternatively, use the project level MAF file from GDC Data Portal.",
      "metadata": {}
    },
    {
      "cell_type": "code",
      "source": "# my_maf <- read.maf(\n#   maf = \"tcga-brca.somatic.maf\",\n#   clinicalData = pheno_df,\n#   verbose = FALSE\n# )\n# my_maf",
      "metadata": {
        "trusted": true
      },
      "execution_count": null,
      "outputs": []
    },
    {
      "cell_type": "markdown",
      "source": "**Gene co-occurrence file**\n\nThe co-occurring gene pairs are arranged in ascending order of their p-value in this file. We select the gene pair with the least p-value, and hence load only one row and the columns containing gene names and p-value.",
      "metadata": {}
    },
    {
      "cell_type": "code",
      "source": "co_occurrence_df <- readr::read_csv(\n  paste0(\"/mnt/project/\", co_occurrence_file),\n  show_col_types = FALSE,\n  n_max = 1,\n  col_select = c(\n    \"gene1\",\n    \"gene2\",\n    \"pValue\"\n  )\n)\nco_occurrence_df",
      "metadata": {
        "trusted": true
      },
      "execution_count": null,
      "outputs": []
    },
    {
      "cell_type": "markdown",
      "source": "# 4. Survival Analysis",
      "metadata": {}
    },
    {
      "cell_type": "markdown",
      "source": "We use the `mafSurvival` function from `maftools` to perform survival analysis and compare cohorts.\n\nWe choose the set of co-occurrent genes, with the lowest p-value and create cohorts based on mutations observed in these genes. We perform survival analysis between the group of samples having the mutated gene sets (`Mutant`) and the group who have no mutations on either gene (`Wildtype`).",
      "metadata": {}
    },
    {
      "cell_type": "code",
      "source": "gene1 <- co_occurrence_df %>% pull(gene1)\ngene2 <- co_occurrence_df %>% pull(gene2)",
      "metadata": {
        "trusted": true
      },
      "execution_count": null,
      "outputs": []
    },
    {
      "cell_type": "code",
      "source": "mafSurvival(\n  maf = my_maf,\n  genes = c(gene1, gene2),\n  time = \"termination_days_to\",\n  Status = \"vital_status\"\n)",
      "metadata": {
        "trusted": true
      },
      "execution_count": null,
      "outputs": []
    }
  ]
}
